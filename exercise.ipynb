{
 "cells": [
  {
   "cell_type": "markdown",
   "metadata": {},
   "source": [
    "# Python Microservice Demo\n",
    "\n",
    "## What is a microservice?\n",
    "A microservice is a small, independently deployable software unit that focuses on doing one task well, as part of a larger distributed system. It communicates with other microservices through well-defined APIs.\n",
    "\n",
    "## What is an API?\n",
    "An API (Application Programming Interface) is a set of rules, protocols, and tools for building software applications. It specifies how software components should interact, allowing different systems to communicate with each other.\n",
    "\n",
    "## What is FastAPI?\n",
    "FastAPI is a modern, fast (high-performance) web framework for building APIs with based on standard Python type hints. It's known for its speed, ease of use, and automatic generation of interactive API documentation.\n",
    "\n",
    "\n",
    "## What will we be building?\n",
    "1. Demonstrate how to recreate the Flask application from the last workshop.\n",
    "2. An API endpoint that can return a list of users.\n",
    "3. An API endpoint that can return images of coffee.\n",
    "4. Create a homepage."
   ]
  },
  {
   "cell_type": "markdown",
   "metadata": {},
   "source": [
    "## First Steps: Create a New Python Environment\n",
    "This way it does not interfere with your current Python libraries or packages."
   ]
  },
  {
   "cell_type": "markdown",
   "metadata": {},
   "source": [
    "### Create a new virtual environment\n",
    "\n",
    "```sh\n",
    "python -m venv env\n",
    "```\n",
    "or if the above doesn't work: \n",
    "```sh\n",
    "python3 -m venv env\n",
    "```\n",
    "\n",
    "### Activate the environment (Linux / Mac)\n",
    "\n",
    "```sh\n",
    "source env/bin/activate\n",
    "```\n",
    "\n",
    "### Activate the environment (Windows)\n",
    "\n",
    "```sh\n",
    ".\\env\\Scripts\\Activate.ps1\n",
    "```"
   ]
  },
  {
   "cell_type": "markdown",
   "metadata": {},
   "source": [
    "## Install the necessary libraries\n",
    "\n",
    "```sh\n",
    "pip install -r requirements.txt\n",
    "```\n",
    "or if your pip program is named differently:\n",
    "```sh\n",
    "pip3 install -r requirements.txt\n",
    "```"
   ]
  },
  {
   "cell_type": "markdown",
   "metadata": {},
   "source": []
  },
  {
   "cell_type": "markdown",
   "metadata": {},
   "source": [
    "### Import FastAPI and the `users_list` from *users.py*"
   ]
  },
  {
   "cell_type": "code",
   "execution_count": null,
   "metadata": {},
   "outputs": [],
   "source": [
    "from fastapi import FastAPI\n",
    "from users import users_list\n",
    "\n",
    "app = FastAPI(title=\"Demo Microservice w/ FastAPI\")"
   ]
  },
  {
   "cell_type": "markdown",
   "metadata": {},
   "source": [
    "### 1. Recreating the Hello World Application"
   ]
  },
  {
   "cell_type": "code",
   "execution_count": null,
   "metadata": {},
   "outputs": [],
   "source": [
    "@app.get(\"/\")\n",
    "def get_root():\n",
    "    return {\"Hello\":\"World\"}"
   ]
  },
  {
   "cell_type": "markdown",
   "metadata": {},
   "source": [
    "### Now start the server!"
   ]
  },
  {
   "cell_type": "code",
   "execution_count": null,
   "metadata": {},
   "outputs": [],
   "source": [
    "%run -m uvicorn main:app --port 8000 --reload"
   ]
  },
  {
   "attachments": {
    "image.png": {
     "image/png": "[encoded data removed]"
    }
   },
   "cell_type": "markdown",
   "metadata": {},
   "source": [
    "`%run` is a special Jupyter only command that allows you to run Python modules. You can also run this in terminal with\n",
    "```sh\n",
    "uvicorn main:app --port 8000 --reload\n",
    "```\n",
    "\n",
    "To stop the cell, press the square button to the left:\n",
    "\n",
    " ![image.png](attachment:image.png)"
   ]
  },
  {
   "cell_type": "markdown",
   "metadata": {},
   "source": [
    "### To test your API, go to your browser and type:\n",
    "`localhost:8000`\n",
    "\n",
    "or in your terminal (Mac, Linux, or Windows), type\n",
    "```sh\n",
    "curl localhost:8000\n",
    "```\n",
    "\n",
    "\n",
    "### View your autogenerated documentation!\n",
    "In your browser, go to:\n",
    "\n",
    "`localhost:8000/docs`\n",
    "\n",
    "and\n",
    "\n",
    "`localhost:8000/redoc`"
   ]
  },
  {
   "cell_type": "markdown",
   "metadata": {},
   "source": [
    "### NOTE! If you ran your server in this notebook, you will have to stop it to run other cells.\n",
    "If you run the notebook in terminal, all your changes made will be reloaded, hence the `--reload` parameter."
   ]
  },
  {
   "cell_type": "markdown",
   "metadata": {},
   "source": [
    "### 2. Create endpoint for getting users"
   ]
  },
  {
   "cell_type": "code",
   "execution_count": null,
   "metadata": {},
   "outputs": [],
   "source": [
    "# Get all users\n",
    "@app.get(\"/users\")\n",
    "def get_all_users():\n",
    "    return users_list\n",
    "\n",
    "# Get a users age\n",
    "@app.get(\"/users/{name}\")\n",
    "def get_all_users(name: str):\n",
    "    user = users_list[name]\n",
    "    if user is None:\n",
    "        return {\"error\": \"User does not exist!\"}\n",
    "    return user\n"
   ]
  },
  {
   "cell_type": "markdown",
   "metadata": {},
   "source": [
    "### Now run your code again...\n",
    "Either by using the cell below, or if you ran using the terminal, you won't have to do anything! \n",
    "You would just have to save the file and it will automatically update the server."
   ]
  },
  {
   "cell_type": "markdown",
   "metadata": {},
   "source": [
    "### 3. (More Advanced) Return Random Images of Coffee\n",
    "What this does is takes a publically available API that generates random images of coffee and then mimicks the operation on our endpoint.\n",
    "\n",
    "There are two ways of doing this:\n",
    "1. Downloading the image from the site and sending it back with an `FileResponse()` type\n",
    "2. streaming it directly from the website without having to download it. Streaming it is a bit more difficult.\n",
    "\n",
    "We picked #2 so we don't have to store the files on our computer."
   ]
  },
  {
   "cell_type": "code",
   "execution_count": null,
   "metadata": {},
   "outputs": [],
   "source": [
    "from fastapi import HTTPException\n",
    "from fastapi.responses import StreamingResponse\n",
    "import httpx\n",
    "\n",
    "@app.get(\"/coffee\")\n",
    "async def get_coffee():\n",
    "    async with httpx.AsyncClient() as client:\n",
    "        coffee_api = \"https://coffee.alexflipnote.dev/random\"\n",
    "        try:\n",
    "            # Fetching the image from the URL\n",
    "            response = await client.get(coffee_api)\n",
    "            response.raise_for_status()  # Raises an exception for 4XX/5XX responses\n",
    "        except httpx.RequestError as exc:\n",
    "            raise HTTPException(status_code=400, detail=f\"Request error: {exc}\") from exc\n",
    "        except httpx.HTTPStatusError as exc:\n",
    "            raise HTTPException(status_code=exc.response.status_code, detail=f\"HTTP error: {exc}\") from exc\n",
    "\n",
    "        # Stream the response back\n",
    "        return StreamingResponse(response.iter_bytes(), media_type=response.headers['Content-Type'])"
   ]
  },
  {
   "cell_type": "markdown",
   "metadata": {},
   "source": [
    "### 4. Create a webpage using HTML in FastAPI!\n",
    "\n",
    "We need to import one more FastAPI response type... it's HTMLResponse.\n",
    "\n",
    "This tells the server what we will return is going to be a webpage/HTML."
   ]
  },
  {
   "cell_type": "code",
   "execution_count": null,
   "metadata": {},
   "outputs": [],
   "source": [
    "# Create a simple webpage\n",
    "@app.get(\"/home\")\n",
    "async def get_homepage():\n",
    "    page = \\\n",
    "        \"\"\"\n",
    "            <script>\n",
    "                function btn_click() {\n",
    "                    alert('You clicked this button');\n",
    "                }\n",
    "            </script>\n",
    "\n",
    "            <html style=\"background-color: blue;\">\n",
    "                <center>\n",
    "                    <h1>Welcome to my webpage!!</h1>\n",
    "                    <button id='btn' onclick='btn_click();'>Click me</button>\n",
    "                </center>\n",
    "            </html>\n",
    "        \"\"\"\n",
    "    return HTMLResponse(content=page)"
   ]
  },
  {
   "cell_type": "markdown",
   "metadata": {},
   "source": [
    "### Now go to your website in the browser: \n",
    "\n",
    "`localhost:8000/home`"
   ]
  },
  {
   "cell_type": "markdown",
   "metadata": {},
   "source": [
    "## That's it! You've completed this workshop. \n",
    "#### The `main.py` file has all the code already written correctly. \n",
    "You can play around with this code further.\n",
    "\n",
    "Don't forget to quit your server by pressing \n",
    "`ctrl + c`\n"
   ]
  }
 ],
 "metadata": {
  "kernelspec": {
   "display_name": "env",
   "language": "python",
   "name": "python3"
  },
  "language_info": {
   "codemirror_mode": {
    "name": "ipython",
    "version": 3
   },
   "file_extension": ".py",
   "mimetype": "text/x-python",
   "name": "python",
   "nbconvert_exporter": "python",
   "pygments_lexer": "ipython3",
   "version": "3.9.18"
  }
 },
 "nbformat": 4,
 "nbformat_minor": 2
}
